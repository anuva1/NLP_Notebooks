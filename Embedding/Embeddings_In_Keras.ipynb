{
  "nbformat": 4,
  "nbformat_minor": 0,
  "metadata": {
    "colab": {
      "provenance": []
    },
    "kernelspec": {
      "name": "python3",
      "display_name": "Python 3"
    },
    "language_info": {
      "name": "python"
    }
  },
  "cells": [
    {
      "cell_type": "code",
      "source": [
        "# Embedding layer in Keras ? #\n",
        "\n",
        "# Turns positive integers (indexes) into dense vectors of fixed size.\n",
        "# e.g. [[4], [20]] -> [[0.25, 0.1], [0.6, -0.2]]\n",
        "# This layer can only be used on positive integer inputs of a fixed range.\n",
        "\n",
        "# How does keras converts an interger representation into dense vectors ? #\n",
        "\n",
        "# Keras converts integer representations into dense vectors using an Embedding layer, which learns an internal embedding matrix\n",
        "# during the training process.\n",
        "\n",
        "# Here's a step-by-step explanation of how Keras achieves this transformation:\n",
        "\n",
        "# 1. Embedding Layer Initialization:\n",
        "# When you define an Embedding layer in Keras, you specify the input_dim (size of the vocabulary), output_dim (size of the dense vector), and optionally input_length (length of input sequences).\n",
        "# The Embedding layer initializes an embedding matrix of shape (input_dim, output_dim), where:\n",
        "# input_dim is the total number of unique words in the vocabulary.\n",
        "# output_dim is the dimensionality of the dense vector for each word.\n",
        "# This matrix is usually initialized with small random values (e.g., using a uniform or normal distribution).\n",
        "\n",
        "# 2. Mapping Integers to Vectors:\n",
        "# The input to the Embedding layer is a sequence of integers, where each integer represents a word’s index in the vocabulary.\n",
        "# When a batch of sequences is fed into the Embedding layer, each integer is used as an index to look up the corresponding row in the embedding matrix.\n",
        "# For example, if the integer 5 is an input value, the Embedding layer retrieves the 5th row from the embedding matrix, which is the dense vector representation of the word corresponding to index 5.\n",
        "\n",
        "# 3. Embedding Matrix:\n",
        "# The embedding matrix can be thought of as a lookup table where each row represents the embedding vector for a specific word.\n",
        "# Initially, these vectors are random, but during training, the neural network adjusts the vectors (i.e., the values in the embedding matrix) through backpropagation to minimize the loss function.\n",
        "# The training process involves adjusting the embeddings so that they capture semantic similarities and other relevant characteristics of the words in the context of the task.\n",
        "\n",
        "# 4. Backpropagation and Learning:\n",
        "# During training, as the model processes batches of data, the embeddings are updated by backpropagating the error gradients from the loss function through the network.\n",
        "# The embedding vectors are modified in such a way that words with similar meanings or roles in the data (as learned by the network) end up with similar vectors in the embedding space.\n",
        "# Example of How It Works in Practice:\n",
        "# Suppose you have the following setup:\n",
        "\n",
        "# Vocabulary size (input_dim) = 10,000 (words indexed from 0 to 9999).\n",
        "# Embedding size (output_dim) = 100 (each word will be represented by a 100-dimensional vector).\n",
        "# Input sequence = [7, 12, 543, 34] (a sequence of word indices).\n",
        "# Here’s what happens inside the Embedding layer:\n",
        "\n",
        "# The layer looks up the 7th, 12th, 543rd, and 34th rows of the embedding matrix.\n",
        "# Each of these rows is a 100-dimensional vector, e.g., [0.01, -0.03, ..., 0.02].\n",
        "# The output of the Embedding layer for this sequence is a 2D array (or tensor) of shape (4, 100), where 4 is the length of the input sequence and 100 is the embedding dimension.\n"
      ],
      "metadata": {
        "id": "XRQRIljQL7r_"
      },
      "execution_count": null,
      "outputs": []
    },
    {
      "cell_type": "code",
      "execution_count": 1,
      "metadata": {
        "colab": {
          "base_uri": "https://localhost:8080/"
        },
        "id": "gsVncQmbLybs",
        "outputId": "68ce5423-0b81-4852-fb85-f579d0dda62d"
      },
      "outputs": [
        {
          "output_type": "stream",
          "name": "stdout",
          "text": [
            "2.17.0\n"
          ]
        }
      ],
      "source": [
        "# import tensorflow as tf\n",
        "# print(tf.__version__)"
      ]
    },
    {
      "cell_type": "code",
      "source": [
        "import numpy as np\n",
        "import tensorflow as tf\n",
        "import os\n",
        "\n",
        "from tensorflow.keras.preprocessing.text import one_hot\n",
        "from tensorflow.keras.preprocessing.sequence import pad_sequences\n",
        "from tensorflow.keras.models import Sequential\n",
        "from tensorflow.keras.layers import Embedding, Flatten, Dense\n",
        "\n",
        "# Set environment variable to suppress TensorFlow warnings\n",
        "os.environ['TF_CPP_MIN_LOG_LEVEL'] = '3'\n",
        "\n",
        "\n",
        "docs = [\n",
        "        \"feeling on top of the world today!\",\n",
        "        \"just enjoying the beautiful sunshine\",\n",
        "        \"looking forward to this for weeks\",\n",
        "        \"literally jumping up and down with excitement\",\n",
        "        \"feeling really down and can't seem to shake it off\",\n",
        "        \"so frustrated and fed up with this situation\",\n",
        "        \"it's all too much to handle.\"\n",
        "        ]\n",
        "labels = np.array([1,1,1,1,0,0,0])\n",
        "# 1: good mood\n",
        "# 0: bad mood\n",
        "\n",
        "# integer encode the documents\n",
        "vocab = 50\n",
        "encoded_data = [one_hot(mood,vocab) for mood in docs]\n",
        "print(encoded_data)\n",
        "\n",
        "# pad documents to a max length of 4 words\n",
        "max_pad = 10\n",
        "padded_data = pad_sequences(encoded_data, maxlen = max_pad , padding=\"pre\")\n",
        "print(\"padded data below : \")\n",
        "print(padded_data)\n",
        "\n",
        "# define the model\n",
        "model = Sequential()\n",
        "model.add(Embedding(vocab,8,input_length = max_pad))\n",
        "model.add(Flatten())\n",
        "model.add(Dense(1, activation=\"sigmoid\"))\n",
        "\n",
        "# complile the model\n",
        "model.compile(optimizer=\"adam\",loss=['binary_crossentropy'], metrics=['accuracy'])\n",
        "\n",
        "# fit the model\n",
        "model.fit(padded_data,labels,epochs=50,verbose=0)\n",
        "\n",
        "# evaluate the model\n",
        "loss, accuracy = model.evaluate(padded_data,labels,verbose=0)\n",
        "print('loss: %f' % (loss))\n",
        "print('Accuracy: %f' % (accuracy*100))\n",
        "\n",
        "# summarize the model\n",
        "print(model.summary())\n",
        "\n",
        "# embedding model\n",
        "model_embed = Sequential()\n",
        "model_embed.add(Embedding(vocab,8,input_length = max_pad))\n",
        "model_embed.compile(optimizer=\"adam\", metrics=['mse'])\n",
        "\n",
        "# embedding generated by the embedding model\n",
        "print(padded_data[0])\n",
        "print(model_embed.predict(padded_data[0]))"
      ],
      "metadata": {
        "colab": {
          "base_uri": "https://localhost:8080/",
          "height": 831
        },
        "id": "44ew6WujMI4G",
        "outputId": "b1795bde-87f5-4fa8-8c6e-24e798a4a8f8"
      },
      "execution_count": 46,
      "outputs": [
        {
          "output_type": "stream",
          "name": "stdout",
          "text": [
            "[[13, 36, 22, 18, 41, 32, 7], [15, 30, 41, 33, 10], [2, 2, 28, 3, 42, 27], [32, 36, 48, 20, 25, 13, 22], [13, 40, 25, 20, 20, 36, 28, 31, 37, 33], [22, 11, 20, 25, 48, 13, 3, 45], [48, 13, 33, 31, 28, 34]]\n",
            "padded data below : \n",
            "[[ 0  0  0 13 36 22 18 41 32  7]\n",
            " [ 0  0  0  0  0 15 30 41 33 10]\n",
            " [ 0  0  0  0  2  2 28  3 42 27]\n",
            " [ 0  0  0 32 36 48 20 25 13 22]\n",
            " [13 40 25 20 20 36 28 31 37 33]\n",
            " [ 0  0 22 11 20 25 48 13  3 45]\n",
            " [ 0  0  0  0 48 13 33 31 28 34]]\n",
            "loss: 0.487917\n",
            "Accuracy: 100.000000\n"
          ]
        },
        {
          "output_type": "display_data",
          "data": {
            "text/plain": [
              "\u001b[1mModel: \"sequential_27\"\u001b[0m\n"
            ],
            "text/html": [
              "<pre style=\"white-space:pre;overflow-x:auto;line-height:normal;font-family:Menlo,'DejaVu Sans Mono',consolas,'Courier New',monospace\"><span style=\"font-weight: bold\">Model: \"sequential_27\"</span>\n",
              "</pre>\n"
            ]
          },
          "metadata": {}
        },
        {
          "output_type": "display_data",
          "data": {
            "text/plain": [
              "┏━━━━━━━━━━━━━━━━━━━━━━━━━━━━━━━━━━━━━━┳━━━━━━━━━━━━━━━━━━━━━━━━━━━━━┳━━━━━━━━━━━━━━━━━┓\n",
              "┃\u001b[1m \u001b[0m\u001b[1mLayer (type)                        \u001b[0m\u001b[1m \u001b[0m┃\u001b[1m \u001b[0m\u001b[1mOutput Shape               \u001b[0m\u001b[1m \u001b[0m┃\u001b[1m \u001b[0m\u001b[1m        Param #\u001b[0m\u001b[1m \u001b[0m┃\n",
              "┡━━━━━━━━━━━━━━━━━━━━━━━━━━━━━━━━━━━━━━╇━━━━━━━━━━━━━━━━━━━━━━━━━━━━━╇━━━━━━━━━━━━━━━━━┩\n",
              "│ embedding_26 (\u001b[38;5;33mEmbedding\u001b[0m)             │ (\u001b[38;5;45mNone\u001b[0m, \u001b[38;5;34m10\u001b[0m, \u001b[38;5;34m8\u001b[0m)               │             \u001b[38;5;34m400\u001b[0m │\n",
              "├──────────────────────────────────────┼─────────────────────────────┼─────────────────┤\n",
              "│ flatten_18 (\u001b[38;5;33mFlatten\u001b[0m)                 │ (\u001b[38;5;45mNone\u001b[0m, \u001b[38;5;34m80\u001b[0m)                  │               \u001b[38;5;34m0\u001b[0m │\n",
              "├──────────────────────────────────────┼─────────────────────────────┼─────────────────┤\n",
              "│ dense_16 (\u001b[38;5;33mDense\u001b[0m)                     │ (\u001b[38;5;45mNone\u001b[0m, \u001b[38;5;34m1\u001b[0m)                   │              \u001b[38;5;34m81\u001b[0m │\n",
              "└──────────────────────────────────────┴─────────────────────────────┴─────────────────┘\n"
            ],
            "text/html": [
              "<pre style=\"white-space:pre;overflow-x:auto;line-height:normal;font-family:Menlo,'DejaVu Sans Mono',consolas,'Courier New',monospace\">┏━━━━━━━━━━━━━━━━━━━━━━━━━━━━━━━━━━━━━━┳━━━━━━━━━━━━━━━━━━━━━━━━━━━━━┳━━━━━━━━━━━━━━━━━┓\n",
              "┃<span style=\"font-weight: bold\"> Layer (type)                         </span>┃<span style=\"font-weight: bold\"> Output Shape                </span>┃<span style=\"font-weight: bold\">         Param # </span>┃\n",
              "┡━━━━━━━━━━━━━━━━━━━━━━━━━━━━━━━━━━━━━━╇━━━━━━━━━━━━━━━━━━━━━━━━━━━━━╇━━━━━━━━━━━━━━━━━┩\n",
              "│ embedding_26 (<span style=\"color: #0087ff; text-decoration-color: #0087ff\">Embedding</span>)             │ (<span style=\"color: #00d7ff; text-decoration-color: #00d7ff\">None</span>, <span style=\"color: #00af00; text-decoration-color: #00af00\">10</span>, <span style=\"color: #00af00; text-decoration-color: #00af00\">8</span>)               │             <span style=\"color: #00af00; text-decoration-color: #00af00\">400</span> │\n",
              "├──────────────────────────────────────┼─────────────────────────────┼─────────────────┤\n",
              "│ flatten_18 (<span style=\"color: #0087ff; text-decoration-color: #0087ff\">Flatten</span>)                 │ (<span style=\"color: #00d7ff; text-decoration-color: #00d7ff\">None</span>, <span style=\"color: #00af00; text-decoration-color: #00af00\">80</span>)                  │               <span style=\"color: #00af00; text-decoration-color: #00af00\">0</span> │\n",
              "├──────────────────────────────────────┼─────────────────────────────┼─────────────────┤\n",
              "│ dense_16 (<span style=\"color: #0087ff; text-decoration-color: #0087ff\">Dense</span>)                     │ (<span style=\"color: #00d7ff; text-decoration-color: #00d7ff\">None</span>, <span style=\"color: #00af00; text-decoration-color: #00af00\">1</span>)                   │              <span style=\"color: #00af00; text-decoration-color: #00af00\">81</span> │\n",
              "└──────────────────────────────────────┴─────────────────────────────┴─────────────────┘\n",
              "</pre>\n"
            ]
          },
          "metadata": {}
        },
        {
          "output_type": "display_data",
          "data": {
            "text/plain": [
              "\u001b[1m Total params: \u001b[0m\u001b[38;5;34m1,445\u001b[0m (5.65 KB)\n"
            ],
            "text/html": [
              "<pre style=\"white-space:pre;overflow-x:auto;line-height:normal;font-family:Menlo,'DejaVu Sans Mono',consolas,'Courier New',monospace\"><span style=\"font-weight: bold\"> Total params: </span><span style=\"color: #00af00; text-decoration-color: #00af00\">1,445</span> (5.65 KB)\n",
              "</pre>\n"
            ]
          },
          "metadata": {}
        },
        {
          "output_type": "display_data",
          "data": {
            "text/plain": [
              "\u001b[1m Trainable params: \u001b[0m\u001b[38;5;34m481\u001b[0m (1.88 KB)\n"
            ],
            "text/html": [
              "<pre style=\"white-space:pre;overflow-x:auto;line-height:normal;font-family:Menlo,'DejaVu Sans Mono',consolas,'Courier New',monospace\"><span style=\"font-weight: bold\"> Trainable params: </span><span style=\"color: #00af00; text-decoration-color: #00af00\">481</span> (1.88 KB)\n",
              "</pre>\n"
            ]
          },
          "metadata": {}
        },
        {
          "output_type": "display_data",
          "data": {
            "text/plain": [
              "\u001b[1m Non-trainable params: \u001b[0m\u001b[38;5;34m0\u001b[0m (0.00 B)\n"
            ],
            "text/html": [
              "<pre style=\"white-space:pre;overflow-x:auto;line-height:normal;font-family:Menlo,'DejaVu Sans Mono',consolas,'Courier New',monospace\"><span style=\"font-weight: bold\"> Non-trainable params: </span><span style=\"color: #00af00; text-decoration-color: #00af00\">0</span> (0.00 B)\n",
              "</pre>\n"
            ]
          },
          "metadata": {}
        },
        {
          "output_type": "display_data",
          "data": {
            "text/plain": [
              "\u001b[1m Optimizer params: \u001b[0m\u001b[38;5;34m964\u001b[0m (3.77 KB)\n"
            ],
            "text/html": [
              "<pre style=\"white-space:pre;overflow-x:auto;line-height:normal;font-family:Menlo,'DejaVu Sans Mono',consolas,'Courier New',monospace\"><span style=\"font-weight: bold\"> Optimizer params: </span><span style=\"color: #00af00; text-decoration-color: #00af00\">964</span> (3.77 KB)\n",
              "</pre>\n"
            ]
          },
          "metadata": {}
        },
        {
          "output_type": "stream",
          "name": "stdout",
          "text": [
            "None\n",
            "[ 0  0  0 13 36 22 18 41 32  7]\n",
            "\u001b[1m1/1\u001b[0m \u001b[32m━━━━━━━━━━━━━━━━━━━━\u001b[0m\u001b[37m\u001b[0m \u001b[1m0s\u001b[0m 102ms/step\n",
            "[[-3.6137462e-02 -1.2286425e-02 -1.7932914e-02 -5.4373741e-03\n",
            "  -2.6029874e-02 -1.9452250e-02 -1.5482008e-02  4.8886035e-02]\n",
            " [-3.6137462e-02 -1.2286425e-02 -1.7932914e-02 -5.4373741e-03\n",
            "  -2.6029874e-02 -1.9452250e-02 -1.5482008e-02  4.8886035e-02]\n",
            " [-3.6137462e-02 -1.2286425e-02 -1.7932914e-02 -5.4373741e-03\n",
            "  -2.6029874e-02 -1.9452250e-02 -1.5482008e-02  4.8886035e-02]\n",
            " [ 3.0116066e-03  4.2416643e-02  4.8363391e-02 -4.0830769e-02\n",
            "   2.1161709e-02 -3.8576078e-02  4.0204536e-02 -9.6517801e-04]\n",
            " [-4.8366915e-02  2.4129860e-03 -3.6535762e-02  2.9794399e-02\n",
            "  -2.6119208e-02 -2.4065519e-02  3.4307029e-02 -1.5863895e-02]\n",
            " [ 4.0287945e-02  2.1868944e-03 -3.1550504e-02 -4.4279408e-02\n",
            "   4.9433198e-02 -3.0688310e-02 -3.9046336e-02  3.4235120e-03]\n",
            " [-3.7906755e-02  3.6570918e-02  2.4719786e-02 -2.6015533e-02\n",
            "  -4.2387247e-02  3.0518178e-02  5.7295710e-04 -7.3708594e-05]\n",
            " [ 1.7522488e-02  2.9725444e-02  1.6301002e-02  4.2964552e-02\n",
            "  -3.2611988e-02  3.5724174e-02 -9.3165413e-03  1.0698676e-02]\n",
            " [-8.9907758e-03  1.0711025e-02  3.8903367e-02 -4.6544909e-02\n",
            "   2.2622872e-02 -1.8848293e-03 -9.7372904e-03  3.7613098e-02]\n",
            " [-4.6262920e-02 -4.2479645e-02 -2.0203626e-02  3.0779902e-02\n",
            "   2.3028400e-02 -1.8067170e-02 -7.0916414e-03 -1.3768602e-02]]\n"
          ]
        }
      ]
    },
    {
      "cell_type": "code",
      "source": [],
      "metadata": {
        "id": "xY41bcMeVyNJ"
      },
      "execution_count": null,
      "outputs": []
    }
  ]
}